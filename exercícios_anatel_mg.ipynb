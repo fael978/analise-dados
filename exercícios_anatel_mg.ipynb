{
  "nbformat": 4,
  "nbformat_minor": 0,
  "metadata": {
    "kernelspec": {
      "display_name": "Python 3",
      "language": "python",
      "name": "python3"
    },
    "language_info": {
      "codemirror_mode": {
        "name": "ipython",
        "version": 3
      },
      "file_extension": ".py",
      "mimetype": "text/x-python",
      "name": "python",
      "nbconvert_exporter": "python",
      "pygments_lexer": "ipython3",
      "version": "3.7.4"
    },
    "colab": {
      "name": "exercícios_anatel_mg.ipynb",
      "provenance": []
    }
  },
  "cells": [
    {
      "cell_type": "markdown",
      "metadata": {
        "id": "MYK4RtKeqmOQ",
        "colab_type": "text"
      },
      "source": [
        "![anatel](img/anatel_logo.png \"Logo Anatel\")\n",
        "\n",
        "# Análise de Dados da Anatel em Minas Gerais (2006 - 2019)"
      ]
    },
    {
      "cell_type": "markdown",
      "metadata": {
        "id": "DvsfudaBqmOU",
        "colab_type": "text"
      },
      "source": [
        "A Agência Nacional de Telecomunicaçõe ([Anatel](https://www.anatel.gov.br/institucional/)) foi criada em 16 de julho de 1997 com o objetivo de regular o setor de telecomunicações para contribuir com o desenvolvimento do Brasil. Neste estudo iremos explorar o conjunto de dados das **Reclamações Registradas na Anatel** no estado de Minas Gerais durante os anos de 2006 até 2019. Os dados foram baixaados do  website [Dados Abertos](http://www.dados.gov.br/dataset/solicitacoesregistradasnaanatel) e o [Dicionário de Dados Oficial](data/Reclamações_Glossário_e_Metadados.pdf) está disponível na pasta: [`data/Reclamações_Glossário_e_Metadados.pdf`](data/Reclamações_Glossário_e_Metadados.pdf)."
      ]
    },
    {
      "cell_type": "markdown",
      "metadata": {
        "id": "s-vr7NjiqmOX",
        "colab_type": "text"
      },
      "source": [
        "## Exercícios\n",
        "Faça as questões abaixo usando somente a biblioteca [pandas](https://pandas.pydata.org/)."
      ]
    },
    {
      "cell_type": "markdown",
      "metadata": {
        "id": "i-SarK3IqmOZ",
        "colab_type": "text"
      },
      "source": [
        "1. Importe o pacote **pandas** como o nome pd."
      ]
    },
    {
      "cell_type": "code",
      "metadata": {
        "id": "yWiMSjiNqmOc",
        "colab_type": "code",
        "colab": {}
      },
      "source": [
        "import numpy as np\n",
        "import pandas as pd"
      ],
      "execution_count": 2,
      "outputs": []
    },
    {
      "cell_type": "markdown",
      "metadata": {
        "id": "ezFd9B8QqmOq",
        "colab_type": "text"
      },
      "source": [
        "2. Carregue em memória o conjunto de dados disponível na pasta [`data/anatel_mg_2006_2019.csv`](data/anatel_mg_2006_2019.csv) para uma variável chamada **df**."
      ]
    },
    {
      "cell_type": "code",
      "metadata": {
        "id": "OxtTjmNnqmOs",
        "colab_type": "code",
        "colab": {}
      },
      "source": [
        "df = pd.read_csv('anatel_mg_2006_2019.csv')"
      ],
      "execution_count": null,
      "outputs": []
    },
    {
      "cell_type": "markdown",
      "metadata": {
        "id": "CrrfC-OMqmO3",
        "colab_type": "text"
      },
      "source": [
        "3. Quantas linhas e quantas colunas foram carregadas em memória?"
      ]
    },
    {
      "cell_type": "code",
      "metadata": {
        "id": "nAPgOnhbqmO5",
        "colab_type": "code",
        "colab": {}
      },
      "source": [
        "len(df)"
      ],
      "execution_count": null,
      "outputs": []
    },
    {
      "cell_type": "markdown",
      "metadata": {
        "id": "mca78cLWqmPD",
        "colab_type": "text"
      },
      "source": [
        "4. Mostre as 5 primeiras linhas do *dataset*."
      ]
    },
    {
      "cell_type": "code",
      "metadata": {
        "id": "OmosyGRcqmPF",
        "colab_type": "code",
        "colab": {}
      },
      "source": [
        "df.head()"
      ],
      "execution_count": null,
      "outputs": []
    },
    {
      "cell_type": "markdown",
      "metadata": {
        "id": "RRXMLltqqmPQ",
        "colab_type": "text"
      },
      "source": [
        "5.  Quais são os tipos de dados de cada uma das colunas?"
      ]
    },
    {
      "cell_type": "code",
      "metadata": {
        "id": "WYSU0zn0qmPR",
        "colab_type": "code",
        "colab": {}
      },
      "source": [
        "df.info()"
      ],
      "execution_count": null,
      "outputs": []
    },
    {
      "cell_type": "markdown",
      "metadata": {
        "id": "Y4JSdS_sqmPZ",
        "colab_type": "text"
      },
      "source": [
        "6. Mostre a quantidade de colunas para cada um dos tipos de dados."
      ]
    },
    {
      "cell_type": "code",
      "metadata": {
        "id": "qUOR9h-FqmPa",
        "colab_type": "code",
        "colab": {}
      },
      "source": [
        "df.describe()"
      ],
      "execution_count": null,
      "outputs": []
    },
    {
      "cell_type": "markdown",
      "metadata": {
        "id": "1riopk3SqmPh",
        "colab_type": "text"
      },
      "source": [
        "7. Mostre as informações básicas do DataFrame."
      ]
    },
    {
      "cell_type": "code",
      "metadata": {
        "id": "g2tR1dHCqmPi",
        "colab_type": "code",
        "colab": {}
      },
      "source": [
        "df.info()"
      ],
      "execution_count": null,
      "outputs": []
    },
    {
      "cell_type": "markdown",
      "metadata": {
        "id": "oJmEoa1oqmPn",
        "colab_type": "text"
      },
      "source": [
        "8. Verifique se existem dados ausentes (*misssing data*) no conjunto de dados."
      ]
    },
    {
      "cell_type": "code",
      "metadata": {
        "id": "ESR2kjdxqmPn",
        "colab_type": "code",
        "colab": {}
      },
      "source": [
        "df.isnull().values.any()"
      ],
      "execution_count": null,
      "outputs": []
    },
    {
      "cell_type": "markdown",
      "metadata": {
        "id": "XI1VTwRVqmPr",
        "colab_type": "text"
      },
      "source": [
        "9. Qual é o número total de dados ausentes?"
      ]
    },
    {
      "cell_type": "code",
      "metadata": {
        "id": "91XbAgxmqmPs",
        "colab_type": "code",
        "colab": {}
      },
      "source": [
        "df.isnull().sum().sum()"
      ],
      "execution_count": null,
      "outputs": []
    },
    {
      "cell_type": "markdown",
      "metadata": {
        "id": "eVV4KufLqmPw",
        "colab_type": "text"
      },
      "source": [
        "10. Qual é o número total de dados ausentes por coluna? "
      ]
    },
    {
      "cell_type": "code",
      "metadata": {
        "id": "duHrY7jvqmPx",
        "colab_type": "code",
        "colab": {}
      },
      "source": [
        "df.isnull().sum()"
      ],
      "execution_count": null,
      "outputs": []
    },
    {
      "cell_type": "markdown",
      "metadata": {
        "id": "w4JM-QAmqmP1",
        "colab_type": "text"
      },
      "source": [
        "11. Remova todos os dados ausentes encontrados."
      ]
    },
    {
      "cell_type": "code",
      "metadata": {
        "id": "j1ZS78XcqmP2",
        "colab_type": "code",
        "colab": {}
      },
      "source": [
        "df = df.dropna(subset=['GrupoEconNorm'])"
      ],
      "execution_count": null,
      "outputs": []
    },
    {
      "cell_type": "markdown",
      "metadata": {
        "id": "RJcmlVa_qmP5",
        "colab_type": "text"
      },
      "source": [
        "12. Selecione o serviço que possui o maior número de solicitações `QtdeSolic` na Anatel."
      ]
    },
    {
      "cell_type": "code",
      "metadata": {
        "id": "ulDntjViqmP5",
        "colab_type": "code",
        "colab": {}
      },
      "source": [
        "df['QtdeSolic'].max()"
      ],
      "execution_count": null,
      "outputs": []
    },
    {
      "cell_type": "markdown",
      "metadata": {
        "id": "u0yPRhBKqmP8",
        "colab_type": "text"
      },
      "source": [
        "13. Qual é o menor número de solicitações `QtdeSolic` na Anatel."
      ]
    },
    {
      "cell_type": "code",
      "metadata": {
        "id": "LduYq8SVqmP9",
        "colab_type": "code",
        "colab": {}
      },
      "source": [
        "menor_qtd = df['QtdeSolic'].min()\n",
        "menor_qtd"
      ],
      "execution_count": null,
      "outputs": []
    },
    {
      "cell_type": "markdown",
      "metadata": {
        "id": "3Gxu-i5GqmQA",
        "colab_type": "text"
      },
      "source": [
        "14. Mostre todas as linhs iguais ao menor número de solicitações `QtdeSolic` na Anatel."
      ]
    },
    {
      "cell_type": "code",
      "metadata": {
        "id": "2T85AQe0qmQA",
        "colab_type": "code",
        "colab": {}
      },
      "source": [
        "qtd_sol = np.where(df['QtdeSolic'] == menor_qtd) \n",
        "len(qtd_sol[0])"
      ],
      "execution_count": null,
      "outputs": []
    },
    {
      "cell_type": "markdown",
      "metadata": {
        "id": "PHhq2jDnqmQE",
        "colab_type": "text"
      },
      "source": [
        "15. Mostre as contagens de solicitações `QtdeSolic` por tipo de serviço `Servico`."
      ]
    },
    {
      "cell_type": "code",
      "metadata": {
        "id": "i8gH-awHqmQE",
        "colab_type": "code",
        "colab": {}
      },
      "source": [
        "grupo = df.groupby(['Servico'])['QtdeSolic'].sum()\n",
        "\n",
        "grupo"
      ],
      "execution_count": null,
      "outputs": []
    },
    {
      "cell_type": "markdown",
      "metadata": {
        "id": "nW0qFmfBqmQH",
        "colab_type": "text"
      },
      "source": [
        "16. Ao longo dos anos mostre o número de solicitações por mês?"
      ]
    },
    {
      "cell_type": "code",
      "metadata": {
        "id": "WFbg8T7jqmQI",
        "colab_type": "code",
        "colab": {}
      },
      "source": [
        "por_ano = df.groupby(['Ano', 'Mes'])['QtdeSolic'].sum()\n",
        "por_ano"
      ],
      "execution_count": null,
      "outputs": []
    },
    {
      "cell_type": "markdown",
      "metadata": {
        "id": "-INkdtbEqmQM",
        "colab_type": "text"
      },
      "source": [
        "17. Crie o vetor **reclamacoes** com todos os dados que cuja coluna `Tipo` seja igual a \"Reclamação\"."
      ]
    },
    {
      "cell_type": "code",
      "metadata": {
        "id": "k2WZM4x1qmQM",
        "colab_type": "code",
        "colab": {}
      },
      "source": [
        "reclama = np.where(df['Tipo'] == \"Reclamação\")[0]\n",
        "\n",
        "len(reclam)"
      ],
      "execution_count": null,
      "outputs": []
    },
    {
      "cell_type": "markdown",
      "metadata": {
        "id": "xdOalr35qmQP",
        "colab_type": "text"
      },
      "source": [
        "18. Mostre o número total de solictiações `QtdeSolic` de reclamações para cada tipo de serviço `Servico`"
      ]
    },
    {
      "cell_type": "code",
      "metadata": {
        "id": "yBre6uqrqmQQ",
        "colab_type": "code",
        "colab": {}
      },
      "source": [
        "tot_sol = df.where(df['Tipo'] == \"Reclamação\").groupby(['Servico']).sum()\n",
        "tot_sol.QtdeSolic"
      ],
      "execution_count": null,
      "outputs": []
    },
    {
      "cell_type": "markdown",
      "metadata": {
        "id": "bVxlmqEIqmQT",
        "colab_type": "text"
      },
      "source": [
        "19. Quais são os maiores ou maior motivo de solicitação de reclamações?"
      ]
    },
    {
      "cell_type": "code",
      "metadata": {
        "id": "HCqzdHZyqmQT",
        "colab_type": "code",
        "colab": {}
      },
      "source": [
        "maiores = tot_sol.QtdeSolic.max()\n",
        "maiores"
      ],
      "execution_count": null,
      "outputs": []
    },
    {
      "cell_type": "markdown",
      "metadata": {
        "id": "a0oraw8NqmQW",
        "colab_type": "text"
      },
      "source": [
        "20. Faça um agrupamento de dados pela coluna `GrupoEconNorm`, mostrando um sumário estatístico da quantidade solicitações `QtdeSolic`."
      ]
    },
    {
      "cell_type": "code",
      "metadata": {
        "id": "Z9lfeTfuqmQW",
        "colab_type": "code",
        "colab": {}
      },
      "source": [
        "GrupoEconNorm = df.groupby(['GrupoEconNorm']).sum()\n",
        "\n",
        "GrupoEconNorm.QtdeSolic"
      ],
      "execution_count": null,
      "outputs": []
    }
  ]
}